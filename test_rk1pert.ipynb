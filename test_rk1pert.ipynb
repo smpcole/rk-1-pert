{
 "cells": [
  {
   "cell_type": "code",
   "execution_count": null,
   "metadata": {
    "scrolled": false
   },
   "outputs": [],
   "source": [
    "from rk1pert import *\n",
    "import matplotlib.pyplot as plt\n",
    "%matplotlib inline\n",
    "\n",
    "n = 5\n",
    "dmin = 0\n",
    "dmax = 20\n",
    "tmin = 0\n",
    "tmax = 20\n",
    "tstep = .01\n",
    "plot_asymptotes = True\n",
    "\n",
    "D = rand_diag(n, dmin, dmax)\n",
    "u = rand_unit_vector(n)\n",
    "U = np.outer(u, u)\n",
    "print(\"u = \" + str(u))\n",
    "print(\"D = \" + str(np.diag(D)))\n",
    "A = pencil(D, U)\n",
    "\n",
    "x, y = get_data_points(A, tmin, tmax, tstep)\n",
    "for i in range(n):\n",
    "    plt.plot(x, y[i])\n",
    "plt.xlabel(r\"$t$\")\n",
    "plt.ylabel(r\"Eigenvalues of $A(t)$\")\n",
    "\n",
    "# Asymptotes\n",
    "if plot_asymptotes:\n",
    "    U, s, V = np.linalg.svd(U) # U will now contain an extension of u to an orthonormal basis for R^n\n",
    "    U = U[:, 1:]\n",
    "    S = U.T.dot(D).dot(U)\n",
    "    mu = np.linalg.eigvalsh(S)\n",
    "    mu.sort()\n",
    "    mu = mu[::-1]\n",
    "    print(u\"\\u03bc = \" + str(mu))\n",
    "    for y in mu:\n",
    "        plt.plot(x, y * np.ones(len(x)), ':')\n",
    "    \n",
    "    plt.plot(x, D.dot(u).dot(u) + x, ':')\n",
    "\n",
    "plt.text(0, -10, \"u = \" + str(u) + \"\\nD = \" + str(np.diag(D)) + \"\\nmu = \" + str(mu))\n",
    "plt.savefig(\"output.pdf\", bbox_inches = \"tight\") # This makes the text visible in the PDF\n",
    "plt.show()\n",
    "\n",
    "np.savez(\"output.npz\", u = u, d = np.diag(D))"
   ]
  }
 ],
 "metadata": {
  "kernelspec": {
   "display_name": "Python 3",
   "language": "python",
   "name": "python3"
  },
  "language_info": {
   "codemirror_mode": {
    "name": "ipython",
    "version": 3
   },
   "file_extension": ".py",
   "mimetype": "text/x-python",
   "name": "python",
   "nbconvert_exporter": "python",
   "pygments_lexer": "ipython3",
   "version": "3.6.2"
  }
 },
 "nbformat": 4,
 "nbformat_minor": 2
}
