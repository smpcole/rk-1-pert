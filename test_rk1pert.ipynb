{
 "cells": [
  {
   "cell_type": "markdown",
   "metadata": {},
   "source": [
    "# Plot eigenvalues of Hermitian pencils\n",
    "\n",
    "The script below plots eigenvalues of a Hermition pencil $A(t) = D + t\\mathbf u\\mathbf u^\\top$.\n",
    "\n",
    "Input can be specified in one of three ways:\n",
    "1.  By specifying an input .npz file containing keys `d` and `u`, where `d` contains a 1d array of the diagonal entries.\n",
    "2.  By specifying $D$ and $\\mathbf u$ directly.\n",
    "3.  By specifying parameters for randomized input.\n",
    "\n",
    "The order of precedence of these input methods goes from 1 to 3; e.g., if the user specifies both and input file and $D$ and $\\mathbf u$, then $D$ and $\\mathbf u$ will be loaded from the input file."
   ]
  },
  {
   "cell_type": "code",
   "execution_count": null,
   "metadata": {
    "collapsed": true,
    "scrolled": false
   },
   "outputs": [],
   "source": [
    "from rk1pert import *\n",
    "import matplotlib.pyplot as plt\n",
    "%matplotlib inline\n",
    "\n",
    "inputfile = None # This supercedes other parameters\n",
    "\n",
    "D = None\n",
    "u = None\n",
    "\n",
    "n = 5\n",
    "dmin = 0\n",
    "dmax = 20\n",
    "tmin = 0\n",
    "tmax = 20\n",
    "tstep = .01\n",
    "plot_asymptotes = True\n",
    "\n",
    "# If input file is specified, load D and u from there instead\n",
    "if inputfile is not None:\n",
    "    inputfile = np.load(inputfile)\n",
    "    D = np.diag(inputfile['d'])\n",
    "    u = inputfile['u']\n",
    "    \n",
    "if D is None:\n",
    "    D = rand_diag(n, dmin, dmax)\n",
    "if u is None:\n",
    "    u = rand_unit_vector(n)\n",
    "    \n",
    "n = len(u)\n",
    "    \n",
    "U = np.outer(u, u)\n",
    "print(\"u = \" + str(u))\n",
    "print(\"D = \" + str(np.diag(D)))\n",
    "A = pencil(D, U)\n",
    "\n",
    "x, y = get_data_points(A, tmin, tmax, tstep)\n",
    "for i in range(n):\n",
    "    plt.plot(x, y[i])\n",
    "plt.xlabel(r\"$t$\")\n",
    "plt.ylabel(r\"Eigenvalues of $A(t)$\")\n",
    "\n",
    "# Asymptotes\n",
    "if plot_asymptotes:\n",
    "    U, s, V = np.linalg.svd(U) # U will now contain an extension of u to an orthonormal basis for R^n\n",
    "    U = U[:, 1:]\n",
    "    S = U.T.dot(D).dot(U)\n",
    "    mu = np.linalg.eigvalsh(S)\n",
    "    mu.sort()\n",
    "    mu = mu[::-1]\n",
    "    print(u\"\\u03bc = \" + str(mu))\n",
    "    for y in mu:\n",
    "        plt.plot(x, y * np.ones(len(x)), ':')\n",
    "    \n",
    "    plt.plot(x, D.dot(u).dot(u) + x, ':')\n",
    "\n",
    "plt.text(0, -10, \"u = \" + str(u) + \"\\nD = \" + str(np.diag(D)) + \"\\nmu = \" + str(mu))\n",
    "plt.savefig(\"output.pdf\", bbox_inches = \"tight\") # This makes the text visible in the PDF\n",
    "plt.show()\n",
    "\n",
    "np.savez(\"output.npz\", u = u, d = np.diag(D))"
   ]
  }
 ],
 "metadata": {
  "kernelspec": {
   "display_name": "Python 3",
   "language": "python",
   "name": "python3"
  },
  "language_info": {
   "codemirror_mode": {
    "name": "ipython",
    "version": 3
   },
   "file_extension": ".py",
   "mimetype": "text/x-python",
   "name": "python",
   "nbconvert_exporter": "python",
   "pygments_lexer": "ipython3",
   "version": "3.6.2"
  }
 },
 "nbformat": 4,
 "nbformat_minor": 2
}
